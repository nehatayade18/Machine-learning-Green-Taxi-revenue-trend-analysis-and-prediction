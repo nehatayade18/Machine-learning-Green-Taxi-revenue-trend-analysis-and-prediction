{
 "cells": [
  {
   "cell_type": "code",
   "execution_count": 1,
   "metadata": {},
   "outputs": [
    {
     "data": {
      "text/plain": [
       "Index(['Unnamed: 0', 'VendorID', 'lpep_pickup_datetime',\n",
       "       'lpep_dropoff_datetime', 'RatecodeID', 'PULocationID', 'DOLocationID',\n",
       "       'passenger_count', 'trip_distance', 'fare_amount', 'extra', 'mta_tax',\n",
       "       'tip_amount', 'tolls_amount', 'improvement_surcharge', 'total_amount',\n",
       "       'payment_type', 'trip_type', 'pickup_year', 'pickup_month',\n",
       "       'pickup_day', 'pickup_hour', 'pickup_minutes', 'dropOff_year',\n",
       "       'dropOff_month', 'dropOff_day', 'dropOff_hour', 'dropOff_minutes',\n",
       "       'duration', 'speed'],\n",
       "      dtype='object')"
      ]
     },
     "execution_count": 1,
     "metadata": {},
     "output_type": "execute_result"
    }
   ],
   "source": [
    "import pandas as pd\n",
    "#df_train = pd.read_csv(\"Train.csv\")\n",
    "df_171819= pd.read_csv(\"171819_DATA.csv\")\n",
    "df_171819.columns"
   ]
  },
  {
   "cell_type": "code",
   "execution_count": 2,
   "metadata": {},
   "outputs": [],
   "source": [
    "import shap\n"
   ]
  },
  {
   "cell_type": "code",
   "execution_count": 3,
   "metadata": {},
   "outputs": [
    {
     "data": {
      "text/plain": [
       "Index(['VendorID', 'lpep_pickup_datetime', 'lpep_dropoff_datetime',\n",
       "       'RatecodeID', 'PULocationID', 'DOLocationID', 'passenger_count',\n",
       "       'trip_distance', 'fare_amount', 'extra', 'mta_tax', 'tip_amount',\n",
       "       'tolls_amount', 'improvement_surcharge', 'total_amount', 'payment_type',\n",
       "       'trip_type', 'pickup_year', 'pickup_month', 'pickup_day', 'pickup_hour',\n",
       "       'pickup_minutes', 'dropOff_year', 'dropOff_month', 'dropOff_day',\n",
       "       'dropOff_hour', 'dropOff_minutes', 'duration', 'speed'],\n",
       "      dtype='object')"
      ]
     },
     "execution_count": 3,
     "metadata": {},
     "output_type": "execute_result"
    }
   ],
   "source": [
    "df_171819=df_171819.drop(['Unnamed: 0'], axis=1)\n",
    "df_171819.columns"
   ]
  },
  {
   "cell_type": "code",
   "execution_count": 4,
   "metadata": {},
   "outputs": [],
   "source": [
    "df17=df_171819[df_171819['pickup_year']==2017]\n",
    "df18=df_171819[df_171819['pickup_year']==2018]\n",
    "df_test=df_171819[df_171819['pickup_year']==2019]\n",
    "\n",
    "df_train= pd.concat([df17,df18])"
   ]
  },
  {
   "cell_type": "code",
   "execution_count": 5,
   "metadata": {},
   "outputs": [],
   "source": [
    "Y=df_train['total_amount']\n",
    "X=df_train.drop(['lpep_pickup_datetime', 'lpep_dropoff_datetime','fare_amount', 'extra', 'mta_tax', 'tip_amount',\n",
    "       'tolls_amount', 'improvement_surcharge', 'total_amount'], axis=1)"
   ]
  },
  {
   "cell_type": "code",
   "execution_count": 6,
   "metadata": {},
   "outputs": [],
   "source": [
    "from sklearn.tree import DecisionTreeRegressor\n",
    "import pickle\n",
    "regressor = DecisionTreeRegressor(max_depth=6, random_state=0)\n",
    "regressor.fit(X,Y)\n",
    "filename = 'shap_model.sav'\n",
    "pickle.dump(regressor,open(filename,'wb'))"
   ]
  },
  {
   "cell_type": "code",
   "execution_count": 7,
   "metadata": {},
   "outputs": [],
   "source": [
    "Y_test=df_test['total_amount']\n",
    "X_test=df_test.drop(['lpep_pickup_datetime', 'lpep_dropoff_datetime','fare_amount', 'extra', 'mta_tax', 'tip_amount',\n",
    "       'tolls_amount', 'improvement_surcharge', 'total_amount'], axis=1)"
   ]
  },
  {
   "cell_type": "code",
   "execution_count": 12,
   "metadata": {},
   "outputs": [
    {
     "data": {
      "text/html": [
       "<div>\n",
       "<style scoped>\n",
       "    .dataframe tbody tr th:only-of-type {\n",
       "        vertical-align: middle;\n",
       "    }\n",
       "\n",
       "    .dataframe tbody tr th {\n",
       "        vertical-align: top;\n",
       "    }\n",
       "\n",
       "    .dataframe thead th {\n",
       "        text-align: right;\n",
       "    }\n",
       "</style>\n",
       "<table border=\"1\" class=\"dataframe\">\n",
       "  <thead>\n",
       "    <tr style=\"text-align: right;\">\n",
       "      <th></th>\n",
       "      <th>VendorID</th>\n",
       "      <th>RatecodeID</th>\n",
       "      <th>PULocationID</th>\n",
       "      <th>DOLocationID</th>\n",
       "      <th>passenger_count</th>\n",
       "      <th>trip_distance</th>\n",
       "      <th>payment_type</th>\n",
       "      <th>trip_type</th>\n",
       "      <th>pickup_year</th>\n",
       "      <th>pickup_month</th>\n",
       "      <th>pickup_day</th>\n",
       "      <th>pickup_hour</th>\n",
       "      <th>pickup_minutes</th>\n",
       "      <th>dropOff_year</th>\n",
       "      <th>dropOff_month</th>\n",
       "      <th>dropOff_day</th>\n",
       "      <th>dropOff_hour</th>\n",
       "      <th>dropOff_minutes</th>\n",
       "      <th>duration</th>\n",
       "      <th>speed</th>\n",
       "    </tr>\n",
       "  </thead>\n",
       "  <tbody>\n",
       "    <tr>\n",
       "      <td>16439025</td>\n",
       "      <td>2</td>\n",
       "      <td>1</td>\n",
       "      <td>82</td>\n",
       "      <td>82</td>\n",
       "      <td>1</td>\n",
       "      <td>0.82</td>\n",
       "      <td>2</td>\n",
       "      <td>1.0</td>\n",
       "      <td>2019</td>\n",
       "      <td>1</td>\n",
       "      <td>22</td>\n",
       "      <td>6</td>\n",
       "      <td>16</td>\n",
       "      <td>2019</td>\n",
       "      <td>1</td>\n",
       "      <td>22</td>\n",
       "      <td>6</td>\n",
       "      <td>23</td>\n",
       "      <td>7.0</td>\n",
       "      <td>7.028571</td>\n",
       "    </tr>\n",
       "    <tr>\n",
       "      <td>16441025</td>\n",
       "      <td>2</td>\n",
       "      <td>1</td>\n",
       "      <td>82</td>\n",
       "      <td>215</td>\n",
       "      <td>1</td>\n",
       "      <td>6.02</td>\n",
       "      <td>2</td>\n",
       "      <td>1.0</td>\n",
       "      <td>2019</td>\n",
       "      <td>2</td>\n",
       "      <td>12</td>\n",
       "      <td>14</td>\n",
       "      <td>26</td>\n",
       "      <td>2019</td>\n",
       "      <td>2</td>\n",
       "      <td>12</td>\n",
       "      <td>14</td>\n",
       "      <td>45</td>\n",
       "      <td>19.0</td>\n",
       "      <td>19.010526</td>\n",
       "    </tr>\n",
       "    <tr>\n",
       "      <td>16441026</td>\n",
       "      <td>2</td>\n",
       "      <td>1</td>\n",
       "      <td>122</td>\n",
       "      <td>191</td>\n",
       "      <td>1</td>\n",
       "      <td>1.00</td>\n",
       "      <td>1</td>\n",
       "      <td>1.0</td>\n",
       "      <td>2019</td>\n",
       "      <td>3</td>\n",
       "      <td>5</td>\n",
       "      <td>22</td>\n",
       "      <td>8</td>\n",
       "      <td>2019</td>\n",
       "      <td>3</td>\n",
       "      <td>5</td>\n",
       "      <td>22</td>\n",
       "      <td>16</td>\n",
       "      <td>8.0</td>\n",
       "      <td>7.500000</td>\n",
       "    </tr>\n",
       "    <tr>\n",
       "      <td>16547552</td>\n",
       "      <td>2</td>\n",
       "      <td>1</td>\n",
       "      <td>255</td>\n",
       "      <td>256</td>\n",
       "      <td>1</td>\n",
       "      <td>0.70</td>\n",
       "      <td>2</td>\n",
       "      <td>1.0</td>\n",
       "      <td>2019</td>\n",
       "      <td>1</td>\n",
       "      <td>6</td>\n",
       "      <td>6</td>\n",
       "      <td>51</td>\n",
       "      <td>2019</td>\n",
       "      <td>1</td>\n",
       "      <td>6</td>\n",
       "      <td>6</td>\n",
       "      <td>54</td>\n",
       "      <td>3.0</td>\n",
       "      <td>14.000000</td>\n",
       "    </tr>\n",
       "    <tr>\n",
       "      <td>16547553</td>\n",
       "      <td>2</td>\n",
       "      <td>1</td>\n",
       "      <td>255</td>\n",
       "      <td>233</td>\n",
       "      <td>1</td>\n",
       "      <td>5.48</td>\n",
       "      <td>1</td>\n",
       "      <td>1.0</td>\n",
       "      <td>2019</td>\n",
       "      <td>1</td>\n",
       "      <td>6</td>\n",
       "      <td>7</td>\n",
       "      <td>2</td>\n",
       "      <td>2019</td>\n",
       "      <td>1</td>\n",
       "      <td>6</td>\n",
       "      <td>7</td>\n",
       "      <td>19</td>\n",
       "      <td>17.0</td>\n",
       "      <td>19.341176</td>\n",
       "    </tr>\n",
       "  </tbody>\n",
       "</table>\n",
       "</div>"
      ],
      "text/plain": [
       "          VendorID  RatecodeID  PULocationID  DOLocationID  passenger_count  \\\n",
       "16439025         2           1            82            82                1   \n",
       "16441025         2           1            82           215                1   \n",
       "16441026         2           1           122           191                1   \n",
       "16547552         2           1           255           256                1   \n",
       "16547553         2           1           255           233                1   \n",
       "\n",
       "          trip_distance  payment_type  trip_type  pickup_year  pickup_month  \\\n",
       "16439025           0.82             2        1.0         2019             1   \n",
       "16441025           6.02             2        1.0         2019             2   \n",
       "16441026           1.00             1        1.0         2019             3   \n",
       "16547552           0.70             2        1.0         2019             1   \n",
       "16547553           5.48             1        1.0         2019             1   \n",
       "\n",
       "          pickup_day  pickup_hour  pickup_minutes  dropOff_year  \\\n",
       "16439025          22            6              16          2019   \n",
       "16441025          12           14              26          2019   \n",
       "16441026           5           22               8          2019   \n",
       "16547552           6            6              51          2019   \n",
       "16547553           6            7               2          2019   \n",
       "\n",
       "          dropOff_month  dropOff_day  dropOff_hour  dropOff_minutes  duration  \\\n",
       "16439025              1           22             6               23       7.0   \n",
       "16441025              2           12            14               45      19.0   \n",
       "16441026              3            5            22               16       8.0   \n",
       "16547552              1            6             6               54       3.0   \n",
       "16547553              1            6             7               19      17.0   \n",
       "\n",
       "              speed  \n",
       "16439025   7.028571  \n",
       "16441025  19.010526  \n",
       "16441026   7.500000  \n",
       "16547552  14.000000  \n",
       "16547553  19.341176  "
      ]
     },
     "execution_count": 12,
     "metadata": {},
     "output_type": "execute_result"
    }
   ],
   "source": [
    "X_test.head()"
   ]
  },
  {
   "cell_type": "code",
   "execution_count": 8,
   "metadata": {},
   "outputs": [],
   "source": [
    "Y_pred = regressor.predict(X_test)"
   ]
  },
  {
   "cell_type": "code",
   "execution_count": 10,
   "metadata": {},
   "outputs": [
    {
     "name": "stdout",
     "output_type": "stream",
     "text": [
      "Accuracy: 0.8842187555198416\n"
     ]
    }
   ],
   "source": [
    "from sklearn import metrics \n",
    "print(\"Accuracy:\",regressor.score(X_test,Y_test))"
   ]
  },
  {
   "cell_type": "code",
   "execution_count": 11,
   "metadata": {},
   "outputs": [
    {
     "name": "stdout",
     "output_type": "stream",
     "text": [
      "[[ 0.00000000e+00  1.00381228e-03  0.00000000e+00 ...  0.00000000e+00\n",
      "   3.97372566e-01  0.00000000e+00]\n",
      " [ 0.00000000e+00  1.00381228e-03  0.00000000e+00 ...  0.00000000e+00\n",
      "  -1.18783274e+00  0.00000000e+00]\n",
      " [ 0.00000000e+00  1.00381228e-03  0.00000000e+00 ...  0.00000000e+00\n",
      "  -2.06136373e+00  0.00000000e+00]\n",
      " ...\n",
      " [ 0.00000000e+00  1.00381228e-03  0.00000000e+00 ...  0.00000000e+00\n",
      "  -1.32064209e+00  0.00000000e+00]\n",
      " [ 0.00000000e+00  1.00381228e-03  0.00000000e+00 ...  0.00000000e+00\n",
      "  -1.88607602e+00  0.00000000e+00]\n",
      " [ 0.00000000e+00  1.00381228e-03  0.00000000e+00 ...  0.00000000e+00\n",
      "   4.79949341e-01  0.00000000e+00]]\n"
     ]
    },
    {
     "data": {
      "image/png": "[encoded data removed]",
      "text/plain": [
       "<Figure size 576x684 with 1 Axes>"
      ]
     },
     "metadata": {
      "needs_background": "light"
     },
     "output_type": "display_data"
    }
   ],
   "source": [
    "shap_values = shap.TreeExplainer(regressor).shap_values(X)\n",
    "print(shap_values)\n",
    "shap.summary_plot(shap_values, X, plot_type=\"bar\")"
   ]
  },
  {
   "cell_type": "code",
   "execution_count": 13,
   "metadata": {},
   "outputs": [
    {
     "data": {
      "image/png": "[encoded data removed]",
      "text/plain": [
       "<Figure size 540x360 with 1 Axes>"
      ]
     },
     "metadata": {
      "needs_background": "light"
     },
     "output_type": "display_data"
    }
   ],
   "source": [
    "shap.dependence_plot(\"trip_distance\", shap_values, X, interaction_index=None, dot_size=2)"
   ]
  },
  {
   "cell_type": "code",
   "execution_count": null,
   "metadata": {},
   "outputs": [],
   "source": [
    "from sklearn.ensemble import RandomForestRegressor\n",
    "random_model = RandomForestRegressor(max_depth=6, random_state=0,n_estimators = 100)\n",
    "filename = 'shap_model_random.sav'\n",
    "pickle.dump(random_model,open(filename,'wb'))"
   ]
  },
  {
   "cell_type": "code",
   "execution_count": null,
   "metadata": {},
   "outputs": [],
   "source": [
    "random_model.fit(X, Y)\n",
    "Y_pred = random_model.predict(X_test)\n",
    "print(\"Accuracy:\",regressor.score(X_test,Y_test))"
   ]
  }
 ],
 "metadata": {
  "kernelspec": {
   "display_name": "Python 3",
   "language": "python",
   "name": "python3"
  },
  "language_info": {
   "codemirror_mode": {
    "name": "ipython",
    "version": 3
   },
   "file_extension": ".py",
   "mimetype": "text/x-python",
   "name": "python",
   "nbconvert_exporter": "python",
   "pygments_lexer": "ipython3",
   "version": "3.7.4"
  }
 },
 "nbformat": 4,
 "nbformat_minor": 2
}
