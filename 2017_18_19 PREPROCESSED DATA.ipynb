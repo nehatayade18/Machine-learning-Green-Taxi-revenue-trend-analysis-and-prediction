{
 "cells": [
  {
   "cell_type": "code",
   "execution_count": 21,
   "metadata": {
    "collapsed": false
   },
   "outputs": [
    {
     "name": "stdout",
     "output_type": "stream",
     "text": [
      "(22572043, 19)\n"
     ]
    }
   ],
   "source": [
    "import os\n",
    "import glob\n",
    "import pandas as pd\n",
    "\n",
    "df1 = pd.read_csv(\"combined_2017.csv\")\n",
    "df2 = pd.read_csv(\"combined_2018.csv\")\n",
    "df3 = pd.read_csv(\"combined_2019.csv\")\n",
    "data = pd.concat([df1, df2,df3], ignore_index=True)\n",
    "print(data.shape)"
   ]
  },
  {
   "cell_type": "code",
   "execution_count": 22,
   "metadata": {
    "collapsed": true
   },
   "outputs": [],
   "source": [
    "data.drop(['ehail_fee'], axis=1)\n",
    "data.drop(['store_and_fwd_flag'],axis = 1)\n",
    "data = data[data['tolls_amount'] >= 0]\n",
    "# base fare for green taxi\n",
    "data = data[data['fare_amount']>=2.5]\n",
    "data = data[data['passenger_count'] <= 6]\n",
    "data = data[data['passenger_count'] > 0 ]\n",
    "data = data[data['RatecodeID'] <= 6]\n",
    "data = data[data['trip_distance'] > 0]"
   ]
  },
  {
   "cell_type": "code",
   "execution_count": 23,
   "metadata": {
    "collapsed": true
   },
   "outputs": [],
   "source": [
    "data['lpep_pickup_datetime'] = pd.to_datetime(data['lpep_pickup_datetime'] )\n",
    "data['lpep_dropoff_datetime'] = pd.to_datetime(data['lpep_dropoff_datetime'] )\n",
    "data['pickup_year'] = pd.DatetimeIndex(data['lpep_pickup_datetime']).year\n",
    "data['pickup_month'] = pd.DatetimeIndex(data['lpep_pickup_datetime']).month\n",
    "data['pickup_day'] = pd.DatetimeIndex(data['lpep_pickup_datetime']).day\n",
    "data['pickup_hour'] = pd.DatetimeIndex(data['lpep_pickup_datetime']).hour\n",
    "data['pickup_minutes'] = pd.DatetimeIndex(data['lpep_pickup_datetime']).minute\n",
    "data['dropOff_year'] = pd.DatetimeIndex(data['lpep_dropoff_datetime']).year\n",
    "data['dropOff_month'] = pd.DatetimeIndex(data['lpep_dropoff_datetime']).month\n",
    "data['dropOff_day'] = pd.DatetimeIndex(data['lpep_dropoff_datetime']).day\n",
    "data['dropOff_hour'] = pd.DatetimeIndex(data['lpep_dropoff_datetime']).hour\n",
    "data['dropOff_minutes'] = pd.DatetimeIndex(data['lpep_dropoff_datetime']).minute\n",
    "data=data.drop(['ehail_fee'], axis=1)\n",
    "data=data.drop(['store_and_fwd_flag'], axis=1)    "
   ]
  },
  {
   "cell_type": "code",
   "execution_count": 24,
   "metadata": {
    "collapsed": true
   },
   "outputs": [],
   "source": [
    "import datetime\n",
    "trip_dur=[]\n",
    "\n",
    "#adding column duration\n",
    "for pu_yr, do_yr, pu_mon, do_mon, pu_day, do_day,pu_hr, do_hr, pu_min, do_min in zip(data.pickup_year, data.dropOff_year, data.pickup_month, data.dropOff_month, data.pickup_day, data.dropOff_day, data.pickup_hour, data.dropOff_hour, data.pickup_minutes, data.dropOff_minutes):\n",
    "    pickup = datetime.datetime(pu_yr, pu_mon, pu_day,pu_hr, pu_min,0)\n",
    "    dropoff = datetime.datetime(do_yr, do_mon, do_day,do_hr, do_min,0)\n",
    "    trip_dur.append((dropoff - pickup).seconds/60)\n",
    "data['duration']=trip_dur"
   ]
  },
  {
   "cell_type": "code",
   "execution_count": 25,
   "metadata": {
    "collapsed": true
   },
   "outputs": [],
   "source": [
    "#removing outliers\n",
    "data = data[data['trip_distance'] > 0.5]\n",
    "data = data[data['trip_distance'] < 500]\n",
    "data = data[data['duration'] <  480]\n",
    "data = data[data['duration'] >  1]"
   ]
  },
  {
   "cell_type": "code",
   "execution_count": 26,
   "metadata": {
    "collapsed": false
   },
   "outputs": [],
   "source": [
    "#adding speed\n",
    "data['speed']=data['trip_distance']*60/data['duration']"
   ]
  },
  {
   "cell_type": "code",
   "execution_count": 27,
   "metadata": {
    "collapsed": false
   },
   "outputs": [],
   "source": [
    "data=data[data['speed'] < 50] "
   ]
  },
  {
   "cell_type": "code",
   "execution_count": 28,
   "metadata": {
    "collapsed": false
   },
   "outputs": [
    {
     "name": "stdout",
     "output_type": "stream",
     "text": [
      "20953187\n",
      "49.98461538461538 0.06554621848739496\n",
      "220.08 0.51\n",
      "479.0 2.0\n"
     ]
    }
   ],
   "source": [
    "print(len(data))\n",
    "print(max(data['speed']), min(data['speed']))\n",
    "print(max(data['trip_distance']), min(data['trip_distance']))\n",
    "print(max(data['duration']), min(data['duration']))"
   ]
  },
  {
   "cell_type": "code",
   "execution_count": 29,
   "metadata": {
    "collapsed": true
   },
   "outputs": [],
   "source": [
    "data.to_csv(\"171819_DATA.csv\")"
   ]
  }
 ],
 "metadata": {
  "kernelspec": {
   "display_name": "Python 3",
   "language": "python",
   "name": "python3"
  },
  "language_info": {
   "codemirror_mode": {
    "name": "ipython",
    "version": 3
   },
   "file_extension": ".py",
   "mimetype": "text/x-python",
   "name": "python",
   "nbconvert_exporter": "python",
   "pygments_lexer": "ipython3",
   "version": "3.6.0"
  }
 },
 "nbformat": 4,
 "nbformat_minor": 2
}
